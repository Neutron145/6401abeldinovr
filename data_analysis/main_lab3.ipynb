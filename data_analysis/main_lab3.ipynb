{
 "cells": [
  {
   "cell_type": "code",
   "execution_count": 2,
   "id": "dfb47a45-54e5-4971-8a34-19e6b1613a3a",
   "metadata": {
    "scrolled": true
   },
   "outputs": [],
   "source": [
    "import numpy as np\n",
    "import pandas as pd\n",
    "import yfinance as yf\n",
    "import stocks_analyzer \n",
    "from datetime import datetime\n",
    "import services\n",
    "import json\n",
    "import logging\n",
    "import logging.config"
   ]
  },
  {
   "cell_type": "markdown",
   "id": "4e8a9fa9",
   "metadata": {},
   "source": [
    "Конфигурация логгера"
   ]
  },
  {
   "cell_type": "code",
   "execution_count": 3,
   "id": "4033a34a",
   "metadata": {},
   "outputs": [],
   "source": [
    "config = None\n",
    "with open(\"config/config.json\", 'r') as file:\n",
    "    config = json.load(file)\n",
    "logging.config.dictConfig(config)"
   ]
  },
  {
   "cell_type": "code",
   "execution_count": 4,
   "id": "5d090da2",
   "metadata": {},
   "outputs": [],
   "source": [
    "service_1 = services.ServiceThreads(\"MSFT\", \"5d\")"
   ]
  },
  {
   "cell_type": "code",
   "execution_count": 5,
   "id": "06603ee6",
   "metadata": {},
   "outputs": [
    {
     "name": "stderr",
     "output_type": "stream",
     "text": [
      "2024-11-15 14:51:32,335 MainProcess yfinance DEBUG    Entering history()\n",
      "2024-11-15 14:51:32,338 MainProcess services.service_threads INFO     Service started\n",
      "2024-11-15 14:51:32,347 MainProcess peewee DEBUG    ('CREATE TABLE IF NOT EXISTS \"_kv\" (\"key\" VARCHAR(255) NOT NULL PRIMARY KEY, \"value\" VARCHAR(255)) WITHOUT ROWID', [])\n",
      "2024-11-15 14:51:32,351 MainProcess peewee DEBUG    ('SELECT \"t1\".\"key\", \"t1\".\"value\" FROM \"_kv\" AS \"t1\" WHERE (\"t1\".\"key\" = ?) LIMIT ? OFFSET ?', ['MSFT', 1, 0])\n"
     ]
    },
    {
     "name": "stderr",
     "output_type": "stream",
     "text": [
      "2024-11-15 14:51:32,429 MainProcess yfinance DEBUG     Entering history()\n",
      "2024-11-15 14:51:32,431 MainProcess yfinance DEBUG    MSFT: Yahoo GET parameters: {'range': '5d', 'interval': '1m', 'includePrePost': False, 'events': 'div,splits,capitalGains'}\n",
      "2024-11-15 14:51:32,435 MainProcess yfinance DEBUG      Entering get()\n",
      "2024-11-15 14:51:32,437 MainProcess yfinance DEBUG       Entering _make_request()\n",
      "2024-11-15 14:51:32,440 MainProcess yfinance DEBUG    url=https://query2.finance.yahoo.com/v8/finance/chart/MSFT\n",
      "2024-11-15 14:51:32,444 MainProcess yfinance DEBUG    params={'range': '5d', 'interval': '1m', 'includePrePost': False, 'events': 'div,splits,capitalGains'}\n",
      "2024-11-15 14:51:32,446 MainProcess yfinance DEBUG        Entering _get_cookie_and_crumb()\n",
      "2024-11-15 14:51:32,448 MainProcess yfinance DEBUG    cookie_mode = 'basic'\n",
      "2024-11-15 14:51:32,450 MainProcess yfinance DEBUG         Entering _get_cookie_and_crumb_basic()\n",
      "2024-11-15 14:51:32,458 MainProcess peewee DEBUG    ('CREATE TABLE IF NOT EXISTS \"_cookieschema\" (\"strategy\" VARCHAR(255) NOT NULL PRIMARY KEY, \"fetch_date\" DATETIME NOT NULL, \"cookie_bytes\" BLOB NOT NULL) WITHOUT ROWID', [])\n",
      "2024-11-15 14:51:32,462 MainProcess peewee DEBUG    ('SELECT \"t1\".\"strategy\", \"t1\".\"fetch_date\", \"t1\".\"cookie_bytes\" FROM \"_cookieschema\" AS \"t1\" WHERE (\"t1\".\"strategy\" = ?) LIMIT ? OFFSET ?', ['basic', 1, 0])\n",
      "2024-11-15 14:51:32,466 MainProcess yfinance DEBUG    loaded persistent cookie\n",
      "2024-11-15 14:51:32,468 MainProcess yfinance DEBUG    reusing cookie\n",
      "2024-11-15 14:51:32,477 MainProcess urllib3.connectionpool DEBUG    Starting new HTTPS connection (1): query1.finance.yahoo.com:443\n",
      "2024-11-15 14:51:33,175 MainProcess urllib3.connectionpool DEBUG    https://query1.finance.yahoo.com:443 \"GET /v1/test/getcrumb HTTP/11\" 200 11\n",
      "2024-11-15 14:51:33,179 MainProcess yfinance DEBUG    crumb = 'xWtIRxWxydT'\n",
      "2024-11-15 14:51:33,183 MainProcess yfinance DEBUG         Exiting _get_cookie_and_crumb_basic()\n",
      "2024-11-15 14:51:33,185 MainProcess yfinance DEBUG        Exiting _get_cookie_and_crumb()\n",
      "2024-11-15 14:51:33,191 MainProcess urllib3.connectionpool DEBUG    Starting new HTTPS connection (1): query2.finance.yahoo.com:443\n",
      "2024-11-15 14:51:33,539 MainProcess urllib3.connectionpool DEBUG    https://query2.finance.yahoo.com:443 \"GET /v8/finance/chart/MSFT?range=5d&interval=1m&includePrePost=False&events=div%2Csplits%2CcapitalGains&crumb=xWtIRxWxydT HTTP/11\" 200 None\n",
      "2024-11-15 14:51:33,636 MainProcess yfinance DEBUG    response code=200\n",
      "2024-11-15 14:51:33,639 MainProcess yfinance DEBUG       Exiting _make_request()\n",
      "2024-11-15 14:51:33,642 MainProcess yfinance DEBUG      Exiting get()\n",
      "2024-11-15 14:51:33,683 MainProcess yfinance DEBUG    MSFT: yfinance received OHLC data: 2024-11-08 14:30:00 -> 2024-11-14 21:00:00\n",
      "2024-11-15 14:51:33,734 MainProcess yfinance DEBUG    MSFT: OHLC after cleaning: 2024-11-08 09:30:00-05:00 -> 2024-11-14 15:59:00-05:00\n",
      "2024-11-15 14:51:33,747 MainProcess yfinance DEBUG    MSFT: OHLC after combining events: 2024-11-08 09:30:00-05:00 -> 2024-11-14 15:59:00-05:00\n",
      "2024-11-15 14:51:33,775 MainProcess yfinance DEBUG    MSFT: yfinance returning OHLC: 2024-11-08 09:30:00-05:00 -> 2024-11-14 15:59:00-05:00\n",
      "2024-11-15 14:51:33,778 MainProcess yfinance DEBUG     Exiting history()\n",
      "2024-11-15 14:51:33,782 MainProcess yfinance DEBUG    Exiting history()\n",
      "2024-11-15 14:51:35,208 MainProcess services.service_threads INFO     Succefull calculation of data. Saved to the file MSFT.xlsx\n",
      "2024-11-15 14:52:36,533 MainProcess services.service_threads INFO     Succefull calculation of data. Saved to the file MSFT.xlsx\n"
     ]
    }
   ],
   "source": [
    "service_1.start([\"Open\", \"High\"], 10, \"MSFT.xlsx\")"
   ]
  },
  {
   "cell_type": "code",
   "execution_count": 10,
   "id": "ccc4d473",
   "metadata": {},
   "outputs": [
    {
     "name": "stderr",
     "output_type": "stream",
     "text": [
      "2024-11-15 14:52:53,464 MainProcess yfinance DEBUG    Entering history()\n",
      "2024-11-15 14:52:53,465 MainProcess services.service_threads INFO     Service started\n",
      "2024-11-15 14:52:53,470 MainProcess peewee DEBUG    ('SELECT \"t1\".\"key\", \"t1\".\"value\" FROM \"_kv\" AS \"t1\" WHERE (\"t1\".\"key\" = ?) LIMIT ? OFFSET ?', ['GOOG', 1, 0])\n"
     ]
    },
    {
     "name": "stderr",
     "output_type": "stream",
     "text": [
      "2024-11-15 14:52:53,486 MainProcess yfinance DEBUG     Entering _fetch_ticker_tz()\n",
      "2024-11-15 14:52:53,491 MainProcess yfinance DEBUG      Entering get()\n",
      "2024-11-15 14:52:53,493 MainProcess yfinance DEBUG       Entering _make_request()\n",
      "2024-11-15 14:52:53,495 MainProcess yfinance DEBUG    url=https://query2.finance.yahoo.com/v8/finance/chart/GOOG\n",
      "2024-11-15 14:52:53,497 MainProcess yfinance DEBUG    params=frozendict.frozendict({'range': '1d', 'interval': '1d'})\n",
      "2024-11-15 14:52:53,499 MainProcess yfinance DEBUG        Entering _get_cookie_and_crumb()\n",
      "2024-11-15 14:52:53,501 MainProcess yfinance DEBUG    cookie_mode = 'basic'\n",
      "2024-11-15 14:52:53,503 MainProcess yfinance DEBUG         Entering _get_cookie_and_crumb_basic()\n",
      "2024-11-15 14:52:53,504 MainProcess yfinance DEBUG    reusing cookie\n",
      "2024-11-15 14:52:53,506 MainProcess yfinance DEBUG    reusing crumb\n",
      "2024-11-15 14:52:53,507 MainProcess yfinance DEBUG         Exiting _get_cookie_and_crumb_basic()\n",
      "2024-11-15 14:52:53,513 MainProcess yfinance DEBUG        Exiting _get_cookie_and_crumb()\n",
      "2024-11-15 14:52:53,647 MainProcess urllib3.connectionpool DEBUG    https://query2.finance.yahoo.com:443 \"GET /v8/finance/chart/GOOG?range=1d&interval=1d&crumb=xWtIRxWxydT HTTP/11\" 200 1189\n",
      "2024-11-15 14:52:53,651 MainProcess yfinance DEBUG    response code=200\n",
      "2024-11-15 14:52:53,653 MainProcess yfinance DEBUG       Exiting _make_request()\n",
      "2024-11-15 14:52:53,655 MainProcess yfinance DEBUG      Exiting get()\n",
      "2024-11-15 14:52:53,657 MainProcess yfinance DEBUG     Exiting _fetch_ticker_tz()\n",
      "2024-11-15 14:52:53,659 MainProcess peewee DEBUG    ('BEGIN', None)\n",
      "2024-11-15 14:52:53,665 MainProcess peewee DEBUG    ('INSERT INTO \"_kv\" (\"key\", \"value\") VALUES (?, ?)', ['GOOG', 'America/New_York'])\n",
      "2024-11-15 14:52:53,754 MainProcess yfinance DEBUG     Entering history()\n",
      "2024-11-15 14:52:53,754 MainProcess yfinance DEBUG    GOOG: Yahoo GET parameters: {'range': '5d', 'interval': '1m', 'includePrePost': False, 'events': 'div,splits,capitalGains'}\n",
      "2024-11-15 14:52:53,755 MainProcess yfinance DEBUG      Entering get()\n",
      "2024-11-15 14:52:53,755 MainProcess yfinance DEBUG       Entering _make_request()\n",
      "2024-11-15 14:52:53,756 MainProcess yfinance DEBUG    url=https://query2.finance.yahoo.com/v8/finance/chart/GOOG\n",
      "2024-11-15 14:52:53,757 MainProcess yfinance DEBUG    params={'range': '5d', 'interval': '1m', 'includePrePost': False, 'events': 'div,splits,capitalGains'}\n",
      "2024-11-15 14:52:53,757 MainProcess yfinance DEBUG        Entering _get_cookie_and_crumb()\n",
      "2024-11-15 14:52:53,758 MainProcess yfinance DEBUG    cookie_mode = 'basic'\n",
      "2024-11-15 14:52:53,758 MainProcess yfinance DEBUG         Entering _get_cookie_and_crumb_basic()\n",
      "2024-11-15 14:52:53,759 MainProcess yfinance DEBUG    reusing cookie\n",
      "2024-11-15 14:52:53,760 MainProcess yfinance DEBUG    reusing crumb\n",
      "2024-11-15 14:52:53,760 MainProcess yfinance DEBUG         Exiting _get_cookie_and_crumb_basic()\n",
      "2024-11-15 14:52:53,761 MainProcess yfinance DEBUG        Exiting _get_cookie_and_crumb()\n",
      "2024-11-15 14:52:54,297 MainProcess urllib3.connectionpool DEBUG    https://query2.finance.yahoo.com:443 \"GET /v8/finance/chart/GOOG?range=5d&interval=1m&includePrePost=False&events=div%2Csplits%2CcapitalGains&crumb=xWtIRxWxydT HTTP/11\" 200 None\n",
      "2024-11-15 14:52:54,390 MainProcess yfinance DEBUG    response code=200\n",
      "2024-11-15 14:52:54,391 MainProcess yfinance DEBUG       Exiting _make_request()\n",
      "2024-11-15 14:52:54,393 MainProcess yfinance DEBUG      Exiting get()\n",
      "2024-11-15 14:52:54,437 MainProcess yfinance DEBUG    GOOG: yfinance received OHLC data: 2024-11-08 14:30:00 -> 2024-11-14 21:00:00\n",
      "2024-11-15 14:52:54,478 MainProcess yfinance DEBUG    GOOG: OHLC after cleaning: 2024-11-08 09:30:00-05:00 -> 2024-11-14 15:59:00-05:00\n",
      "2024-11-15 14:52:54,492 MainProcess yfinance DEBUG    GOOG: OHLC after combining events: 2024-11-08 09:30:00-05:00 -> 2024-11-14 15:59:00-05:00\n",
      "2024-11-15 14:52:54,534 MainProcess yfinance DEBUG    GOOG: yfinance returning OHLC: 2024-11-08 09:30:00-05:00 -> 2024-11-14 15:59:00-05:00\n",
      "2024-11-15 14:52:54,537 MainProcess yfinance DEBUG     Exiting history()\n",
      "2024-11-15 14:52:54,538 MainProcess yfinance DEBUG    Exiting history()\n",
      "2024-11-15 14:52:55,660 MainProcess services.service_threads INFO     Succefull calculation of data. Saved to the file AAPL.xlsx\n"
     ]
    }
   ],
   "source": [
    "service_2 = services.ServiceThreads(\"GOOG\", \"5d\")\n",
    "service_2.start([\"Open\", \"High\"], 10, \"GOOG.xlsx\")"
   ]
  },
  {
   "cell_type": "code",
   "execution_count": 6,
   "id": "7192b5f0",
   "metadata": {},
   "outputs": [
    {
     "name": "stderr",
     "output_type": "stream",
     "text": [
      "2024-11-15 14:50:21,204 MainProcess services.service_threads INFO     Service stopped\n"
     ]
    }
   ],
   "source": [
    "service_1.stop()"
   ]
  },
  {
   "cell_type": "code",
   "execution_count": 12,
   "id": "45d0d39c",
   "metadata": {},
   "outputs": [
    {
     "name": "stderr",
     "output_type": "stream",
     "text": [
      "2024-11-15 14:53:12,737 MainProcess services.service_threads INFO     Service stopped\n"
     ]
    }
   ],
   "source": [
    "service_2.stop()"
   ]
  }
 ],
 "metadata": {
  "kernelspec": {
   "display_name": "Python 3 (ipykernel)",
   "language": "python",
   "name": "python3"
  },
  "language_info": {
   "codemirror_mode": {
    "name": "ipython",
    "version": 3
   },
   "file_extension": ".py",
   "mimetype": "text/x-python",
   "name": "python",
   "nbconvert_exporter": "python",
   "pygments_lexer": "ipython3",
   "version": "3.12.6"
  }
 },
 "nbformat": 4,
 "nbformat_minor": 5
}
